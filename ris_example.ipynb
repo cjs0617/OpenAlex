{
 "cells": [
  {
   "cell_type": "code",
   "execution_count": 1,
   "id": "d6b0510f-bf13-40fe-a5e2-2578e31b5239",
   "metadata": {},
   "outputs": [
    {
     "data": {
      "text/html": [
       "<pre>TY  - JOUR\n",
       "AU  - Reut Ashwal-Fluss\n",
       "AU  - Markus Meyer\n",
       "AU  - Nagarjuna Reddy Pamudurti\n",
       "AU  - Andranik Ivanov\n",
       "AU  - Osnat Bartok\n",
       "AU  - Mor Hanan\n",
       "AU  - Naveh Evantal\n",
       "AU  - Sebastian Memczak\n",
       "AU  - Nikolaus Rajewsky\n",
       "AU  - Sebastian Kadener\n",
       "PY  - 2014\n",
       "TI  - circRNA Biogenesis Competes with Pre-mRNA Splicing\n",
       "JO  - Molecular Cell\n",
       "VL  - 56\n",
       "IS  - 1\n",
       "SP  - 55\n",
       "EP  - 66\n",
       "DO  - https://doi.org/10.1016/j.molcel.2014.08.019\n",
       "ER  -</pre><br><a href=\"data:text/plain;base64,VFkgIC0gSk9VUgpBVSAgLSBSZXV0IEFzaHdhbC1GbHVzcwpBVSAgLSBNYXJrdXMgTWV5ZXIKQVUgIC0gTmFnYXJqdW5hIFJlZGR5IFBhbXVkdXJ0aQpBVSAgLSBBbmRyYW5payBJdmFub3YKQVUgIC0gT3NuYXQgQmFydG9rCkFVICAtIE1vciBIYW5hbgpBVSAgLSBOYXZlaCBFdmFudGFsCkFVICAtIFNlYmFzdGlhbiBNZW1jemFrCkFVICAtIE5pa29sYXVzIFJhamV3c2t5CkFVICAtIFNlYmFzdGlhbiBLYWRlbmVyClBZICAtIDIwMTQKVEkgIC0gY2lyY1JOQSBCaW9nZW5lc2lzIENvbXBldGVzIHdpdGggUHJlLW1STkEgU3BsaWNpbmcKSk8gIC0gTW9sZWN1bGFyIENlbGwKVkwgIC0gNTYKSVMgIC0gMQpTUCAgLSA1NQpFUCAgLSA2NgpETyAgLSBodHRwczovL2RvaS5vcmcvMTAuMTAxNi9qLm1vbGNlbC4yMDE0LjA4LjAxOQpFUiAgLQ==\" download=\"ris\">Download RIS</a>"
      ],
      "text/plain": [
       "<IPython.core.display.HTML object>"
      ]
     },
     "metadata": {},
     "output_type": "display_data"
    },
    {
     "data": {
      "text/plain": [
       "'TY  - JOUR\\nAU  - Reut Ashwal-Fluss\\nAU  - Markus Meyer\\nAU  - Nagarjuna Reddy Pamudurti\\nAU  - Andranik Ivanov\\nAU  - Osnat Bartok\\nAU  - Mor Hanan\\nAU  - Naveh Evantal\\nAU  - Sebastian Memczak\\nAU  - Nikolaus Rajewsky\\nAU  - Sebastian Kadener\\nPY  - 2014\\nTI  - circRNA Biogenesis Competes with Pre-mRNA Splicing\\nJO  - Molecular Cell\\nVL  - 56\\nIS  - 1\\nSP  - 55\\nEP  - 66\\nDO  - https://doi.org/10.1016/j.molcel.2014.08.019\\nER  -'"
      ]
     },
     "execution_count": 1,
     "metadata": {},
     "output_type": "execute_result"
    }
   ],
   "source": [
    "from s23oa import Works\n",
    "\n",
    "w = Works(\"https://doi.org/10.1016/j.molcel.2014.08.019\")\n",
    "w.ris"
   ]
  }
 ],
 "metadata": {
  "kernelspec": {
   "display_name": "Python 3",
   "language": "python",
   "name": "python3"
  },
  "language_info": {
   "codemirror_mode": {
    "name": "ipython",
    "version": 3
   },
   "file_extension": ".py",
   "mimetype": "text/x-python",
   "name": "python",
   "nbconvert_exporter": "python",
   "pygments_lexer": "ipython3",
   "version": "3.9.7"
  }
 },
 "nbformat": 4,
 "nbformat_minor": 5
}
