{
 "cells": [
  {
   "cell_type": "code",
   "execution_count": 1,
   "id": "2ce4fb0e-208f-4d1a-be55-cac4bd12fe1d",
   "metadata": {},
   "outputs": [
    {
     "name": "stdout",
     "output_type": "stream",
     "text": [
      "@journal-article{circRNA Biogenesis Competes with Pre-mRNA Splicing,\n",
      " author = {Reut Ashwal-Fluss, Markus Meyer, Nagarjuna Reddy Pamudurti, Andranik Ivanov, Osnat Bartok, Mor Hanan, Naveh Evantal, Sebastian Memczak, Nikolaus Rajewsky andSebastian Kadener},\n",
      " doi = {https://doi.org/10.1016/j.molcel.2014.08.019},\n",
      " journal = {Molecular Cell},\n",
      " pages = {55-66},\n",
      " title = {circRNA Biogenesis Competes with Pre-mRNA Splicing},\n",
      " url = {http://www.cell.com/article/S1097276514006741/pdf},\n",
      " volume = {56},\n",
      " year = {2014}\n",
      "}\n",
      "\n"
     ]
    }
   ],
   "source": [
    "from s23oa import Works\n",
    "\n",
    "w = Works(\"https://doi.org/10.1016/j.molcel.2014.08.019\")\n",
    "w.bibtex"
   ]
  }
 ],
 "metadata": {
  "kernelspec": {
   "display_name": "Python 3",
   "language": "python",
   "name": "python3"
  },
  "language_info": {
   "codemirror_mode": {
    "name": "ipython",
    "version": 3
   },
   "file_extension": ".py",
   "mimetype": "text/x-python",
   "name": "python",
   "nbconvert_exporter": "python",
   "pygments_lexer": "ipython3",
   "version": "3.9.7"
  }
 },
 "nbformat": 4,
 "nbformat_minor": 5
}
