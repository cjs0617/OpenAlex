{
 "cells": [
  {
   "cell_type": "code",
   "execution_count": 1,
   "id": "d6b0510f-bf13-40fe-a5e2-2578e31b5239",
   "metadata": {},
   "outputs": [
    {
     "ename": "ImportError",
     "evalue": "cannot import name 'Works' from 's23' (/opt/tljh/user/lib/python3.9/site-packages/s23/__init__.py)",
     "output_type": "error",
     "traceback": [
      "\u001b[0;31m---------------------------------------------------------------------------\u001b[0m",
      "\u001b[0;31mImportError\u001b[0m                               Traceback (most recent call last)",
      "Input \u001b[0;32mIn [1]\u001b[0m, in \u001b[0;36m<cell line: 1>\u001b[0;34m()\u001b[0m\n\u001b[0;32m----> 1\u001b[0m \u001b[38;5;28;01mfrom\u001b[39;00m \u001b[38;5;21;01ms23\u001b[39;00m \u001b[38;5;28;01mimport\u001b[39;00m Works\n\u001b[1;32m      2\u001b[0m w \u001b[38;5;241m=\u001b[39m Works(\u001b[38;5;124m'\u001b[39m\u001b[38;5;124mhttps://doi.org/10.1021/acscatal.5b00538\u001b[39m\u001b[38;5;124m'\u001b[39m)\n\u001b[1;32m      3\u001b[0m w\u001b[38;5;241m.\u001b[39mris\n",
      "\u001b[0;31mImportError\u001b[0m: cannot import name 'Works' from 's23' (/opt/tljh/user/lib/python3.9/site-packages/s23/__init__.py)"
     ]
    }
   ],
   "source": [
    "from s23oa import Works\n",
    "\n",
    "w = Works(\"https://doi.org/10.1016/j.molcel.2014.08.019\")\n",
    "w.ris"
   ]
  }
 ],
 "metadata": {
  "kernelspec": {
   "display_name": "Python 3",
   "language": "python",
   "name": "python3"
  },
  "language_info": {
   "codemirror_mode": {
    "name": "ipython",
    "version": 3
   },
   "file_extension": ".py",
   "mimetype": "text/x-python",
   "name": "python",
   "nbconvert_exporter": "python",
   "pygments_lexer": "ipython3",
   "version": "3.9.7"
  }
 },
 "nbformat": 4,
 "nbformat_minor": 5
}
